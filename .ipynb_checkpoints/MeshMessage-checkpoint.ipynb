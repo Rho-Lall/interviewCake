{
 "cells": [
  {
   "cell_type": "markdown",
   "id": "unusual-dating",
   "metadata": {},
   "source": [
    "# You wrote a trendy new messaging app, MeshMessage, to get around flaky cell phone coverage.\n",
    "\n",
    "Instead of routing texts through cell towers, your app sends messages via the phones of nearby users, passing each message along from one phone to the next until it reaches the intended recipient. (Don't worry—the messages are encrypted while they're in transit.)\n",
    "\n",
    "Some friends have been using your service, and they're complaining that it takes a long time for messages to get delivered. After some preliminary debugging, you suspect messages might not be taking the most direct route from the sender to the recipient.\n",
    "\n",
    "**Given information about active users on the network, find the shortest route for a message from one user (the sender) to another (the recipient). Return a list of users that make up this route.**\n",
    "\n",
    "> There might be a few shortest delivery routes, all with the same length. For now, let's just return any shortest route.\n",
    "\n",
    "Your network information takes the form of a dictionary mapping username strings to a list of other users nearby:\n",
    "\n",
    " > network = {\n",
    " >\n",
    " >            'Min'     : ['William', 'Jayden', 'Omar'],\n",
    " >\n",
    " >            'William' : ['Min', 'Noam'],\n",
    " >\n",
    " >            'Jayden'  : ['Min', 'Amelia', 'Ren', 'Noam'],\n",
    " >\n",
    " >            'Ren'     : ['Jayden', 'Omar'],\n",
    " >\n",
    " >            'Amelia'  : ['Jayden', 'Adam', 'Miguel'],\n",
    " >\n",
    " >            'Adam'    : ['Amelia', 'Miguel', 'Sofia', 'Lucas'],\n",
    " >\n",
    " >            'Miguel'  : ['Amelia', 'Adam', 'Liam', 'Nathan'],\n",
    " >\n",
    " >            'Noam'    : ['Nathan', 'Jayden', 'William'],\n",
    " >\n",
    " >            'Omar'    : ['Ren', 'Min', 'Scott'],\n",
    " >\n",
    " >            ...\n",
    ">\n",
    ">\n",
    ">            }\n",
    "\n",
    "For the network above, a message from Jayden to Adam should have this route:\n",
    "\n",
    ">   ['Jayden', 'Amelia', 'Adam']"
   ]
  },
  {
   "cell_type": "code",
   "execution_count": 1,
   "id": "described-outside",
   "metadata": {},
   "outputs": [],
   "source": [
    "#Reading The Problem and thinking it thru - 11:14"
   ]
  },
  {
   "cell_type": "code",
   "execution_count": 3,
   "id": "printable-metro",
   "metadata": {},
   "outputs": [],
   "source": [
    "  network = {\n",
    "    'Min'     : ['William', 'Jayden', 'Omar'],\n",
    "    'William' : ['Min', 'Noam'],\n",
    "    'Jayden'  : ['Min', 'Amelia', 'Ren', 'Noam'],\n",
    "    'Ren'     : ['Jayden', 'Omar'],\n",
    "    'Amelia'  : ['Jayden', 'Adam', 'Miguel'],\n",
    "    'Adam'    : ['Amelia', 'Miguel', 'Sofia', 'Lucas'],\n",
    "    'Miguel'  : ['Amelia', 'Adam', 'Liam', 'Nathan'],\n",
    "    'Noam'    : ['Nathan', 'Jayden', 'William'],\n",
    "    'Omar'    : ['Ren', 'Min', 'Scott']\n",
    "}"
   ]
  },
  {
   "cell_type": "code",
   "execution_count": 5,
   "id": "focused-syria",
   "metadata": {},
   "outputs": [
    {
     "data": {
      "text/plain": [
       "{'Min': ['William', 'Jayden', 'Omar'],\n",
       " 'William': ['Min', 'Noam'],\n",
       " 'Jayden': ['Min', 'Amelia', 'Ren', 'Noam'],\n",
       " 'Ren': ['Jayden', 'Omar'],\n",
       " 'Amelia': ['Jayden', 'Adam', 'Miguel'],\n",
       " 'Adam': ['Amelia', 'Miguel', 'Sofia', 'Lucas'],\n",
       " 'Miguel': ['Amelia', 'Adam', 'Liam', 'Nathan'],\n",
       " 'Noam': ['Nathan', 'Jayden', 'William'],\n",
       " 'Omar': ['Ren', 'Min', 'Scott']}"
      ]
     },
     "execution_count": 5,
     "metadata": {},
     "output_type": "execute_result"
    }
   ],
   "source": [
    "network"
   ]
  },
  {
   "cell_type": "code",
   "execution_count": 7,
   "id": "hearing-invention",
   "metadata": {},
   "outputs": [
    {
     "data": {
      "text/plain": [
       "['Jayden', 'Adam']"
      ]
     },
     "execution_count": 7,
     "metadata": {},
     "output_type": "execute_result"
    }
   ],
   "source": [
    "def find_route(sender, recipient):\n",
    "    route = [sender, recipient]\n",
    "    return route\n",
    "\n",
    "\n",
    "find_route('Jayden', 'Adam')"
   ]
  },
  {
   "cell_type": "code",
   "execution_count": 8,
   "id": "excited-prison",
   "metadata": {},
   "outputs": [],
   "source": [
    "# Load problem into ram and set up deliverable structure in the form of a function, find_route - 11:19"
   ]
  },
  {
   "cell_type": "code",
   "execution_count": 17,
   "id": "parallel-christopher",
   "metadata": {},
   "outputs": [
    {
     "data": {
      "text/plain": [
       "['Jayden', 'Amelia', 'Adam']"
      ]
     },
     "execution_count": 17,
     "metadata": {},
     "output_type": "execute_result"
    }
   ],
   "source": [
    "# re-learn how to work with a dictionary - 11:20\n",
    "# build first pass for trivial solution - 11:31\n",
    "def find_route(sender, recipient):\n",
    "    route = [sender]\n",
    "    friends = network[sender]\n",
    "    for friend in friends:\n",
    "        if recipient in network[friend]:\n",
    "            route.append(friend)\n",
    "    route.append(recipient)\n",
    "    return route\n",
    "\n",
    "find_route('Jayden', 'Adam')"
   ]
  },
  {
   "cell_type": "code",
   "execution_count": 38,
   "id": "rocky-investigator",
   "metadata": {},
   "outputs": [
    {
     "name": "stdout",
     "output_type": "stream",
     "text": [
      "Jayden\n",
      "Adam\n",
      "Miguel\n",
      "Amelia\n",
      "Adam\n",
      "Liam\n",
      "Nathan\n"
     ]
    },
    {
     "ename": "TypeError",
     "evalue": "'NoneType' object is not iterable",
     "output_type": "error",
     "traceback": [
      "\u001b[0;31m---------------------------------------------------------------------------\u001b[0m",
      "\u001b[0;31mTypeError\u001b[0m                                 Traceback (most recent call last)",
      "\u001b[0;32m<ipython-input-38-67a271041511>\u001b[0m in \u001b[0;36m<module>\u001b[0;34m\u001b[0m\n\u001b[1;32m     28\u001b[0m     \u001b[0;32mreturn\u001b[0m \u001b[0mroute\u001b[0m\u001b[0;34m\u001b[0m\u001b[0;34m\u001b[0m\u001b[0m\n\u001b[1;32m     29\u001b[0m \u001b[0;34m\u001b[0m\u001b[0m\n\u001b[0;32m---> 30\u001b[0;31m \u001b[0mfind_route\u001b[0m\u001b[0;34m(\u001b[0m\u001b[0;34m'Jayden'\u001b[0m\u001b[0;34m,\u001b[0m \u001b[0;34m'Adam'\u001b[0m\u001b[0;34m)\u001b[0m\u001b[0;34m\u001b[0m\u001b[0;34m\u001b[0m\u001b[0m\n\u001b[0m",
      "\u001b[0;32m<ipython-input-38-67a271041511>\u001b[0m in \u001b[0;36mfind_route\u001b[0;34m(sender, recipient)\u001b[0m\n\u001b[1;32m     23\u001b[0m         \u001b[0;32mfor\u001b[0m \u001b[0mfriend\u001b[0m \u001b[0;32min\u001b[0m \u001b[0mfriends\u001b[0m\u001b[0;34m:\u001b[0m\u001b[0;34m\u001b[0m\u001b[0;34m\u001b[0m\u001b[0m\n\u001b[1;32m     24\u001b[0m             \u001b[0msecond\u001b[0m \u001b[0;34m=\u001b[0m \u001b[0msearch_friends\u001b[0m\u001b[0;34m(\u001b[0m\u001b[0mfriend\u001b[0m\u001b[0;34m)\u001b[0m\u001b[0;34m\u001b[0m\u001b[0;34m\u001b[0m\u001b[0m\n\u001b[0;32m---> 25\u001b[0;31m             \u001b[0;32mfor\u001b[0m \u001b[0mcontact\u001b[0m \u001b[0;32min\u001b[0m \u001b[0msecond\u001b[0m\u001b[0;34m:\u001b[0m\u001b[0;34m\u001b[0m\u001b[0;34m\u001b[0m\u001b[0m\n\u001b[0m\u001b[1;32m     26\u001b[0m                 \u001b[0mprint\u001b[0m\u001b[0;34m(\u001b[0m\u001b[0mcontact\u001b[0m\u001b[0;34m)\u001b[0m\u001b[0;34m\u001b[0m\u001b[0;34m\u001b[0m\u001b[0m\n\u001b[1;32m     27\u001b[0m \u001b[0;34m\u001b[0m\u001b[0m\n",
      "\u001b[0;31mTypeError\u001b[0m: 'NoneType' object is not iterable"
     ]
    }
   ],
   "source": [
    "# How do i extend this past routes that are >= 4?\n",
    "#recursion?\n",
    "# swap append for insert(0,name) - 11:35\n",
    "# start from the end - 11:36\n",
    "# research recursion in python syntax - 11:39\n",
    "# brainfart & break everything - 11:56\n",
    "# handle key error - 12:09\n",
    "\n",
    "def search_friends(name):\n",
    "    friends = network.get(name, None)\n",
    "    return friends\n",
    "\n",
    "\n",
    "def find_route(sender, recipient):\n",
    "    route = [recipient]\n",
    "        \n",
    "    friends = search_friends(recipient)\n",
    "    \n",
    "    if sender in friends:\n",
    "        route.insert(0,sender)\n",
    "\n",
    "    else:\n",
    "        for friend in friends:\n",
    "            second = search_friends(friend)\n",
    "            for contact in second:\n",
    "                print(contact)\n",
    "    \n",
    "    return route\n",
    "\n",
    "find_route('Jayden', 'Adam')"
   ]
  },
  {
   "cell_type": "code",
   "execution_count": 39,
   "id": "excessive-seeker",
   "metadata": {},
   "outputs": [],
   "source": [
    "# get help - 12:09\n",
    "# looks like i need to use a graph after all. I guess I'm calling a quits for now and learning about graphs - 12:13"
   ]
  },
  {
   "cell_type": "code",
   "execution_count": null,
   "id": "champion-suspension",
   "metadata": {},
   "outputs": [],
   "source": []
  }
 ],
 "metadata": {
  "kernelspec": {
   "display_name": "Python 3",
   "language": "python",
   "name": "python3"
  },
  "language_info": {
   "codemirror_mode": {
    "name": "ipython",
    "version": 3
   },
   "file_extension": ".py",
   "mimetype": "text/x-python",
   "name": "python",
   "nbconvert_exporter": "python",
   "pygments_lexer": "ipython3",
   "version": "3.8.5"
  }
 },
 "nbformat": 4,
 "nbformat_minor": 5
}
