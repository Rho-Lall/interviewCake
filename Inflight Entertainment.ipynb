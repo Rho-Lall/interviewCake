{
 "cells": [
  {
   "cell_type": "markdown",
   "id": "disciplinary-thanks",
   "metadata": {},
   "source": [
    "# You've built an inflight entertainment system with on-demand movie streaming.\n",
    "\n",
    "Users on longer flights like to start a second movie right when their first one ends, but they complain that the plane usually lands before they can see the ending. So you're building a feature for choosing two movies whose total runtimes will equal the exact flight length.\n",
    "\n",
    "Write a function that takes an integer flight_length (in minutes) and a list of integers movie_lengths (in minutes) and returns a boolean indicating whether there are two numbers in movie_lengths whose sum equals flight_length.\n",
    "\n",
    "When building your function:\n",
    "\n",
    "- Assume your users will watch exactly two movies\n",
    "- Don't make your users watch the same movie twice\n",
    "- Optimize for runtime over memory"
   ]
  },
  {
   "cell_type": "code",
   "execution_count": null,
   "id": "intellectual-notice",
   "metadata": {},
   "outputs": [],
   "source": [
    "# func(flight_lenght-minutes, [movie_lengths-minutes])\n",
    "    # return bool (are ther two movie_lenghts whose sum equals the flight length)"
   ]
  },
  {
   "cell_type": "code",
   "execution_count": 48,
   "id": "dressed-allocation",
   "metadata": {},
   "outputs": [],
   "source": [
    "# 10:20 - start (brainstorming)\n",
    "\n",
    "flight_length = 180\n",
    "\n",
    "movies = [90, 180, 240, 120, 60]"
   ]
  },
  {
   "cell_type": "markdown",
   "id": "nervous-williams",
   "metadata": {},
   "source": [
    "## Breakdown\n",
    "\n",
    "**How would we solve this by hand?** We know our two movie lengths need to sum to flight_length. So for a given first_movie_length, we need a second_movie_length that equals flight_length - first_movie_length.\n",
    "\n",
    "To do this by hand we might go through movie_lengths from beginning to end, treating each item as first_movie_length, and for each of those check if there's a second_movie_length equal to flight_length - first_movie_length.\n",
    "\n",
    "**How would we implement this in code?** We could nest two loops (the outer choosing first_movie_length, the inner choosing second_movie_length). That’d give us a runtime of $O(n^2)$. We can do better."
   ]
  },
  {
   "cell_type": "code",
   "execution_count": 52,
   "id": "unavailable-facing",
   "metadata": {},
   "outputs": [],
   "source": [
    "def decision(total, movie_list):\n",
    "    \n",
    "    for first_movie in movie_list:\n",
    "        for other_movie in movie_list:\n",
    "            if first_movie == other_movie:\n",
    "                continue\n",
    "            if total - first_movie == other_movie:\n",
    "                return True\n",
    "\n",
    "    return False"
   ]
  },
  {
   "cell_type": "code",
   "execution_count": 53,
   "id": "driving-modification",
   "metadata": {},
   "outputs": [
    {
     "data": {
      "text/plain": [
       "True"
      ]
     },
     "execution_count": 53,
     "metadata": {},
     "output_type": "execute_result"
    }
   ],
   "source": [
    "decision(flight_length, movies)"
   ]
  },
  {
   "cell_type": "markdown",
   "id": "surprised-helena",
   "metadata": {},
   "source": [
    "To bring our runtime down we'll probably need to replace that inner loop (the one that looks for a matching second_movie_length) with something faster.\n",
    "\n",
    "We could sort the movie_lengths first—then we could use **binary search** to find second_movie_length in O(\\lg{n})O(lgn) time instead of $O(n)$ time. But sorting would cost $O(nlg(n))$, and we can do even better than that.\n",
    "\n",
    "**Could we check for the existence of our second_movie_length in constant time?**\n",
    "\n",
    "What data structure gives us convenient constant-time lookups?\n",
    "\n",
    "A set!\n",
    "\n",
    "So we could throw all of our movie_lengths into a set first, in O(n)O(n) time. Then we could loop through our possible first_movie_lengths and replace our inner loop with a simple check in our set. This'll give us O(n)O(n) runtime overall!\n",
    "\n",
    "Of course, we need to add some logic to make sure we're not showing users the same movie twice...\n",
    "\n",
    "But first, we can tighten this up a bit. Instead of two sequential loops, can we do it all in one loop? (Done carefully, this will give us protection from showing the same movie twice as well.)"
   ]
  },
  {
   "cell_type": "markdown",
   "id": "light-essay",
   "metadata": {},
   "source": [
    "items to google\n",
    "- hash table\n",
    "- hash set"
   ]
  },
  {
   "cell_type": "markdown",
   "id": "established-preference",
   "metadata": {},
   "source": [
    "# Solution\n",
    "\n",
    "We make one pass through movie_lengths, treating each item as the first_movie_length. At each iteration, we:\n",
    "\n",
    "- See if there's a matching_second_movie_length we've seen already (stored in our movie_lengths_seen set) that is equal to flight_length - first_movie_length. If there is, we short-circuit and return True.\n",
    "- Keep our movie_lengths_seen set up to date by throwing in the current first_movie_length."
   ]
  },
  {
   "cell_type": "code",
   "execution_count": null,
   "id": "public-admission",
   "metadata": {},
   "outputs": [],
   "source": [
    "def can_two_movies_fill_flight(movie_lengths, flight_length):\n",
    "    # Movie lengths we've seen so far\n",
    "    movie_lengths_seen = set()\n",
    "\n",
    "    for first_movie_length in movie_lengths:\n",
    "        matching_second_movie_length = flight_length - first_movie_length\n",
    "        if matching_second_movie_length in movie_lengths_seen:\n",
    "            return True\n",
    "        movie_lengths_seen.add(first_movie_length)\n",
    "\n",
    "    # We never found a match, so return False\n",
    "    return False"
   ]
  }
 ],
 "metadata": {
  "kernelspec": {
   "display_name": "Python 3",
   "language": "python",
   "name": "python3"
  },
  "language_info": {
   "codemirror_mode": {
    "name": "ipython",
    "version": 3
   },
   "file_extension": ".py",
   "mimetype": "text/x-python",
   "name": "python",
   "nbconvert_exporter": "python",
   "pygments_lexer": "ipython3",
   "version": "3.8.5"
  }
 },
 "nbformat": 4,
 "nbformat_minor": 5
}
