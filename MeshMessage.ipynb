{
 "cells": [
  {
   "cell_type": "markdown",
   "id": "unusual-dating",
   "metadata": {},
   "source": [
    "# You wrote a trendy new messaging app, MeshMessage, to get around flaky cell phone coverage.\n",
    "\n",
    "Instead of routing texts through cell towers, your app sends messages via the phones of nearby users, passing each message along from one phone to the next until it reaches the intended recipient. (Don't worry—the messages are encrypted while they're in transit.)\n",
    "\n",
    "Some friends have been using your service, and they're complaining that it takes a long time for messages to get delivered. After some preliminary debugging, you suspect messages might not be taking the most direct route from the sender to the recipient.\n",
    "\n",
    "**Given information about active users on the network, find the shortest route for a message from one user (the sender) to another (the recipient). Return a list of users that make up this route.**\n",
    "\n",
    "> There might be a few shortest delivery routes, all with the same length. For now, let's just return any shortest route.\n",
    "\n",
    "Your network information takes the form of a dictionary mapping username strings to a list of other users nearby:\n",
    "\n",
    " > network = {\n",
    " >\n",
    " >            'Min'     : ['William', 'Jayden', 'Omar'],\n",
    " >\n",
    " >            'William' : ['Min', 'Noam'],\n",
    " >\n",
    " >            'Jayden'  : ['Min', 'Amelia', 'Ren', 'Noam'],\n",
    " >\n",
    " >            'Ren'     : ['Jayden', 'Omar'],\n",
    " >\n",
    " >            'Amelia'  : ['Jayden', 'Adam', 'Miguel'],\n",
    " >\n",
    " >            'Adam'    : ['Amelia', 'Miguel', 'Sofia', 'Lucas'],\n",
    " >\n",
    " >            'Miguel'  : ['Amelia', 'Adam', 'Liam', 'Nathan'],\n",
    " >\n",
    " >            'Noam'    : ['Nathan', 'Jayden', 'William'],\n",
    " >\n",
    " >            'Omar'    : ['Ren', 'Min', 'Scott'],\n",
    " >\n",
    " >            ...\n",
    ">\n",
    ">\n",
    ">            }\n",
    "\n",
    "For the network above, a message from Jayden to Adam should have this route:\n",
    "\n",
    ">   ['Jayden', 'Amelia', 'Adam']"
   ]
  },
  {
   "cell_type": "code",
   "execution_count": null,
   "id": "described-outside",
   "metadata": {},
   "outputs": [],
   "source": [
    "#Reading The Problem and thinking it thru - 11:14"
   ]
  },
  {
   "cell_type": "code",
   "execution_count": 1,
   "id": "printable-metro",
   "metadata": {},
   "outputs": [
    {
     "data": {
      "text/plain": [
       "{'Min': ['William', 'Jayden', 'Omar'],\n",
       " 'William': ['Min', 'Noam'],\n",
       " 'Jayden': ['Min', 'Amelia', 'Ren', 'Noam'],\n",
       " 'Ren': ['Jayden', 'Omar'],\n",
       " 'Amelia': ['Jayden', 'Adam', 'Miguel'],\n",
       " 'Adam': ['Amelia', 'Miguel', 'Sofia', 'Lucas'],\n",
       " 'Miguel': ['Amelia', 'Adam', 'Liam', 'Nathan'],\n",
       " 'Noam': ['Nathan', 'Jayden', 'William'],\n",
       " 'Omar': ['Ren', 'Min', 'Scott']}"
      ]
     },
     "execution_count": 1,
     "metadata": {},
     "output_type": "execute_result"
    }
   ],
   "source": [
    "  network = {\n",
    "    'Min'     : ['William', 'Jayden', 'Omar'],\n",
    "    'William' : ['Min', 'Noam'],\n",
    "    'Jayden'  : ['Min', 'Amelia', 'Ren', 'Noam'],\n",
    "    'Ren'     : ['Jayden', 'Omar'],\n",
    "    'Amelia'  : ['Jayden', 'Adam', 'Miguel'],\n",
    "    'Adam'    : ['Amelia', 'Miguel', 'Sofia', 'Lucas'],\n",
    "    'Miguel'  : ['Amelia', 'Adam', 'Liam', 'Nathan'],\n",
    "    'Noam'    : ['Nathan', 'Jayden', 'William'],\n",
    "    'Omar'    : ['Ren', 'Min', 'Scott']\n",
    "}\n",
    "network"
   ]
  },
  {
   "cell_type": "code",
   "execution_count": null,
   "id": "hearing-invention",
   "metadata": {},
   "outputs": [],
   "source": [
    "def find_route(sender, recipient):\n",
    "    route = [sender, recipient]\n",
    "    return route\n",
    "\n",
    "\n",
    "find_route('Jayden', 'Adam')"
   ]
  },
  {
   "cell_type": "code",
   "execution_count": null,
   "id": "excited-prison",
   "metadata": {},
   "outputs": [],
   "source": [
    "# Load problem into ram and set up deliverable structure in the form of a function, find_route - 11:19"
   ]
  },
  {
   "cell_type": "code",
   "execution_count": null,
   "id": "parallel-christopher",
   "metadata": {},
   "outputs": [],
   "source": [
    "# re-learn how to work with a dictionary - 11:20\n",
    "# build first pass for trivial solution - 11:31\n",
    "def find_route(sender, recipient):\n",
    "    route = [sender]\n",
    "    friends = network[sender]\n",
    "    for friend in friends:\n",
    "        if recipient in network[friend]:\n",
    "            route.append(friend)\n",
    "    route.append(recipient)\n",
    "    return route\n",
    "\n",
    "find_route('Jayden', 'Adam')"
   ]
  },
  {
   "cell_type": "code",
   "execution_count": null,
   "id": "rocky-investigator",
   "metadata": {},
   "outputs": [],
   "source": [
    "# How do i extend this past routes that are >= 4?\n",
    "#recursion?\n",
    "# swap append for insert(0,name) - 11:35\n",
    "# start from the end - 11:36\n",
    "# research recursion in python syntax - 11:39\n",
    "# brainfart & break everything - 11:56\n",
    "# handle key error - 12:09\n",
    "\n",
    "def search_friends(name):\n",
    "    friends = network.get(name, None)\n",
    "    return friends\n",
    "\n",
    "\n",
    "def find_route(sender, recipient):\n",
    "    route = [recipient]\n",
    "        \n",
    "    friends = search_friends(recipient)\n",
    "    \n",
    "    if sender in friends:\n",
    "        route.insert(0,sender)\n",
    "\n",
    "    else:\n",
    "        for friend in friends:\n",
    "            second = search_friends(friend)\n",
    "            for contact in second:\n",
    "                print(contact)\n",
    "    \n",
    "    return route\n",
    "\n",
    "find_route('Jayden', 'Adam')"
   ]
  },
  {
   "cell_type": "code",
   "execution_count": null,
   "id": "excessive-seeker",
   "metadata": {},
   "outputs": [],
   "source": [
    "# get help - 12:09\n",
    "# looks like i need to use a graph after all. I guess I'm calling a quits for now and learning about graphs - 12:13"
   ]
  },
  {
   "cell_type": "code",
   "execution_count": null,
   "id": "champion-suspension",
   "metadata": {},
   "outputs": [],
   "source": [
    "# DAY 2\n",
    "# - 11:03 -  working thru example problem"
   ]
  },
  {
   "cell_type": "markdown",
   "id": "fancy-apartment",
   "metadata": {},
   "source": [
    "## Graph Data Structure Notes"
   ]
  },
  {
   "cell_type": "code",
   "execution_count": null,
   "id": "sunrise-olive",
   "metadata": {},
   "outputs": [],
   "source": [
    "from IPython.display import YouTubeVideo\n",
    "YouTubeVideo('j0IYCyBdzfA', width=560, height=315)"
   ]
  },
  {
   "cell_type": "code",
   "execution_count": null,
   "id": "powered-limit",
   "metadata": {},
   "outputs": [],
   "source": [
    "routes = [\n",
    "    (\"Mumbai\", \"Paris\"),\n",
    "    (\"Mumbai\", \"Dubai\"),\n",
    "    (\"Paris\", \"Dubai\"),\n",
    "    (\"Paris\", \"New York\"),\n",
    "    (\"Dubai\", \"New York\"),\n",
    "    (\"New York\", \"Toronto\")\n",
    "    \n",
    "]\n",
    "routes"
   ]
  },
  {
   "cell_type": "code",
   "execution_count": null,
   "id": "unique-franklin",
   "metadata": {},
   "outputs": [],
   "source": [
    "# see down the page for updated class, Graph\n",
    "# class Graph:\n",
    "#     def __init__(self, edges):\n",
    "#         self.edges = edges\n",
    "#         self.graph_dict = {}\n",
    "#         for start, end in self.edges:\n",
    "#             if start in self.graph_dict:\n",
    "#                 self.graph_dict[start].append(end)\n",
    "#             else:\n",
    "#                 self.graph_dict[start] = [end]\n",
    "    \n",
    "#     def get_paths(self, start, end, path=[]):\n",
    "#         path = path + [start]\n",
    "#         if start == end:\n",
    "#             return [path]\n",
    "                "
   ]
  },
  {
   "cell_type": "code",
   "execution_count": null,
   "id": "intelligent-nothing",
   "metadata": {},
   "outputs": [],
   "source": [
    "route_graph = Graph(routes)\n",
    "route_graph.graph_dict"
   ]
  },
  {
   "cell_type": "code",
   "execution_count": null,
   "id": "together-finland",
   "metadata": {},
   "outputs": [],
   "source": [
    "route_graph.get_paths(\"Mumbai\",\"Mumbai\")"
   ]
  },
  {
   "cell_type": "code",
   "execution_count": null,
   "id": "round-furniture",
   "metadata": {},
   "outputs": [],
   "source": [
    "# 11:49 - break"
   ]
  },
  {
   "cell_type": "code",
   "execution_count": null,
   "id": "whole-perspective",
   "metadata": {},
   "outputs": [],
   "source": [
    "# Day 3\n",
    "# 2:41\n",
    "#corner case - 'toronto'\n",
    "\n",
    "class Graph:\n",
    "    def __init__(self, edges):\n",
    "        self.edges = edges\n",
    "        self.graph_dict = {}\n",
    "        for start, end in self.edges:\n",
    "            if start in self.graph_dict:\n",
    "                self.graph_dict[start].append(end)\n",
    "            else:\n",
    "                self.graph_dict[start] = [end]\n",
    "    \n",
    "    def get_paths(self, start, end, path=[]):\n",
    "        \n",
    "        path = path + [start]\n",
    "        \n",
    "        if start == end:\n",
    "            return [path]\n",
    "        \n",
    "        if start not in self.graph_dict:\n",
    "            return []\n",
    "        \n",
    "        paths = []\n",
    "        \n",
    "        for node in self.graph_dict[start]:\n",
    "            #node is going to be the values of the key, start\n",
    "            if node not in path: #path as defined above\n",
    "                new_paths = self.get_paths(node, end, path)\n",
    "                for p in new_paths:\n",
    "                    paths.append(p)\n",
    "        \n",
    "        return paths\n",
    "    \n",
    "    def get_shortest_path(self, start, end, path=[]):\n",
    "        \n",
    "        path = path + [start]\n",
    "        \n",
    "        if start == end:\n",
    "            return path\n",
    "        \n",
    "        if start not in self.graph_dict:\n",
    "            return None\n",
    "               \n",
    "        shortest_path = None\n",
    "        \n",
    "        for node in self.graph_dict[start]:\n",
    "            #node is going to be the values of the key, start\n",
    "            if node not in path: #path as defined above\n",
    "                sp = self.get_shortest_path(node, end, path)\n",
    "                if sp:\n",
    "                    if shortest_path is None or len(sp) < len(shortest_path):\n",
    "                        shortest_path = sp\n",
    "        \n",
    "        return shortest_path"
   ]
  },
  {
   "cell_type": "code",
   "execution_count": null,
   "id": "employed-samba",
   "metadata": {},
   "outputs": [],
   "source": [
    "routes = [\n",
    "    (\"Mumbai\", \"Paris\"),\n",
    "    (\"Mumbai\", \"Dubai\"),\n",
    "    (\"Paris\", \"Dubai\"),\n",
    "    (\"Paris\", \"New York\"),\n",
    "    (\"Dubai\", \"New York\"),\n",
    "    (\"New York\", \"Toronto\")\n",
    "    \n",
    "]\n",
    "routes"
   ]
  },
  {
   "cell_type": "code",
   "execution_count": null,
   "id": "closing-wheat",
   "metadata": {},
   "outputs": [],
   "source": [
    "route_graph = Graph(routes)\n",
    "route_graph.graph_dict"
   ]
  },
  {
   "cell_type": "code",
   "execution_count": null,
   "id": "sized-academy",
   "metadata": {},
   "outputs": [],
   "source": [
    "route_graph.get_shortest_path(\"Mumbai\",\"New York\")"
   ]
  },
  {
   "cell_type": "code",
   "execution_count": null,
   "id": "satisfied-royal",
   "metadata": {},
   "outputs": [],
   "source": [
    "route_graph.get_paths(\"Mumbai\",\"New York\")"
   ]
  },
  {
   "cell_type": "code",
   "execution_count": null,
   "id": "round-directive",
   "metadata": {},
   "outputs": [],
   "source": [
    "# 4:06 - finshed example\n",
    "# tomorrow I'll apply the example to the problem at hand.\n"
   ]
  },
  {
   "cell_type": "code",
   "execution_count": 2,
   "id": "faced-emerald",
   "metadata": {},
   "outputs": [
    {
     "data": {
      "text/plain": [
       "{'Min': ['William', 'Jayden', 'Omar'],\n",
       " 'William': ['Min', 'Noam'],\n",
       " 'Jayden': ['Min', 'Amelia', 'Ren', 'Noam'],\n",
       " 'Ren': ['Jayden', 'Omar'],\n",
       " 'Amelia': ['Jayden', 'Adam', 'Miguel'],\n",
       " 'Adam': ['Amelia', 'Miguel', 'Sofia', 'Lucas'],\n",
       " 'Miguel': ['Amelia', 'Adam', 'Liam', 'Nathan'],\n",
       " 'Noam': ['Nathan', 'Jayden', 'William'],\n",
       " 'Omar': ['Ren', 'Min', 'Scott']}"
      ]
     },
     "execution_count": 2,
     "metadata": {},
     "output_type": "execute_result"
    }
   ],
   "source": [
    "# 3:48 - start final writeup.\n",
    "\n",
    "network"
   ]
  },
  {
   "cell_type": "code",
   "execution_count": 14,
   "id": "canadian-secondary",
   "metadata": {},
   "outputs": [],
   "source": [
    "class Network:\n",
    "    def __init__(self, dic):\n",
    "        self.graph_dict = dic\n",
    "            \n",
    "    def get_paths(self, start, end, path=[]):\n",
    "        \n",
    "        path = path + [start]\n",
    "        \n",
    "        if start == end:\n",
    "            return [path]\n",
    "        \n",
    "        if start not in self.graph_dict:\n",
    "            return []\n",
    "        \n",
    "        paths = []\n",
    "        \n",
    "        for node in self.graph_dict[start]:\n",
    "            #node is going to be the values of the key, start\n",
    "            if node not in path: #path as defined above\n",
    "                new_paths = self.get_paths(node, end, path)\n",
    "                for p in new_paths:\n",
    "                    paths.append(p)\n",
    "        \n",
    "        return paths\n",
    "    \n",
    "    def get_shortest_path(self, start, end, path=[]):\n",
    "        \n",
    "        path = path + [start]\n",
    "        \n",
    "        if start == end:\n",
    "            return path\n",
    "        \n",
    "        if start not in self.graph_dict:\n",
    "            return None\n",
    "               \n",
    "        shortest_path = None\n",
    "        \n",
    "        for node in self.graph_dict[start]:\n",
    "            #node is going to be the values of the key, start\n",
    "            if node not in path: #path as defined above\n",
    "                sp = self.get_shortest_path(node, end, path)\n",
    "                if sp:\n",
    "                    if shortest_path is None or len(sp) < len(shortest_path):\n",
    "                        shortest_path = sp\n",
    "        \n",
    "        return shortest_path"
   ]
  },
  {
   "cell_type": "code",
   "execution_count": 16,
   "id": "developed-subcommittee",
   "metadata": {},
   "outputs": [
    {
     "data": {
      "text/plain": [
       "{'Min': ['William', 'Jayden', 'Omar'],\n",
       " 'William': ['Min', 'Noam'],\n",
       " 'Jayden': ['Min', 'Amelia', 'Ren', 'Noam'],\n",
       " 'Ren': ['Jayden', 'Omar'],\n",
       " 'Amelia': ['Jayden', 'Adam', 'Miguel'],\n",
       " 'Adam': ['Amelia', 'Miguel', 'Sofia', 'Lucas'],\n",
       " 'Miguel': ['Amelia', 'Adam', 'Liam', 'Nathan'],\n",
       " 'Noam': ['Nathan', 'Jayden', 'William'],\n",
       " 'Omar': ['Ren', 'Min', 'Scott']}"
      ]
     },
     "execution_count": 16,
     "metadata": {},
     "output_type": "execute_result"
    }
   ],
   "source": [
    "network_graph = Network(network)\n",
    "network_graph.graph_dict"
   ]
  },
  {
   "cell_type": "code",
   "execution_count": 19,
   "id": "becoming-knife",
   "metadata": {},
   "outputs": [
    {
     "data": {
      "text/plain": [
       "[['Jayden', 'Amelia', 'Adam'], ['Jayden', 'Amelia', 'Miguel', 'Adam']]"
      ]
     },
     "execution_count": 19,
     "metadata": {},
     "output_type": "execute_result"
    }
   ],
   "source": [
    "network_graph.get_paths(\"Jayden\",\"Adam\")"
   ]
  },
  {
   "cell_type": "code",
   "execution_count": 20,
   "id": "standard-contemporary",
   "metadata": {},
   "outputs": [
    {
     "data": {
      "text/plain": [
       "['Jayden', 'Amelia', 'Adam']"
      ]
     },
     "execution_count": 20,
     "metadata": {},
     "output_type": "execute_result"
    }
   ],
   "source": [
    "network_graph.get_shortest_path(\"Jayden\",\"Adam\")"
   ]
  },
  {
   "cell_type": "code",
   "execution_count": 21,
   "id": "compound-frequency",
   "metadata": {},
   "outputs": [],
   "source": [
    "# 3:59 - DONE"
   ]
  },
  {
   "cell_type": "code",
   "execution_count": null,
   "id": "bacterial-debut",
   "metadata": {},
   "outputs": [],
   "source": []
  }
 ],
 "metadata": {
  "kernelspec": {
   "display_name": "Python 3",
   "language": "python",
   "name": "python3"
  },
  "language_info": {
   "codemirror_mode": {
    "name": "ipython",
    "version": 3
   },
   "file_extension": ".py",
   "mimetype": "text/x-python",
   "name": "python",
   "nbconvert_exporter": "python",
   "pygments_lexer": "ipython3",
   "version": "3.8.5"
  }
 },
 "nbformat": 4,
 "nbformat_minor": 5
}
