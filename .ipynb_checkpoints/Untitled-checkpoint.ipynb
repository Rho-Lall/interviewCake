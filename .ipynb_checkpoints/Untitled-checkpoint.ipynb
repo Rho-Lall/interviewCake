{
 "cells": [
  {
   "cell_type": "markdown",
   "id": "disciplinary-thanks",
   "metadata": {},
   "source": [
    "# You've built an inflight entertainment system with on-demand movie streaming.\n",
    "\n",
    "Users on longer flights like to start a second movie right when their first one ends, but they complain that the plane usually lands before they can see the ending. So you're building a feature for choosing two movies whose total runtimes will equal the exact flight length.\n",
    "\n",
    "Write a function that takes an integer flight_length (in minutes) and a list of integers movie_lengths (in minutes) and returns a boolean indicating whether there are two numbers in movie_lengths whose sum equals flight_length.\n",
    "\n",
    "When building your function:\n",
    "\n",
    "- Assume your users will watch exactly two movies\n",
    "- Don't make your users watch the same movie twice\n",
    "- Optimize for runtime over memory"
   ]
  },
  {
   "cell_type": "code",
   "execution_count": null,
   "id": "intellectual-notice",
   "metadata": {},
   "outputs": [],
   "source": [
    "# func(flight_lenght-minutes, [movie_lengths-minutes])\n",
    "    # return bool (are ther two movie_lenghts whose sum equals the flight length)"
   ]
  }
 ],
 "metadata": {
  "kernelspec": {
   "display_name": "Python 3",
   "language": "python",
   "name": "python3"
  },
  "language_info": {
   "codemirror_mode": {
    "name": "ipython",
    "version": 3
   },
   "file_extension": ".py",
   "mimetype": "text/x-python",
   "name": "python",
   "nbconvert_exporter": "python",
   "pygments_lexer": "ipython3",
   "version": "3.8.5"
  }
 },
 "nbformat": 4,
 "nbformat_minor": 5
}
